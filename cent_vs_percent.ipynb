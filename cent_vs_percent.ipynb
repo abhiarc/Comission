{
 "cells": [
  {
   "cell_type": "code",
   "execution_count": 72,
   "id": "valued-family",
   "metadata": {},
   "outputs": [],
   "source": [
    "import pandas as pd\n",
    "import numpy as np\n",
    "import random as rd"
   ]
  },
  {
   "cell_type": "code",
   "execution_count": 73,
   "id": "worthy-reason",
   "metadata": {},
   "outputs": [
    {
     "name": "stdout",
     "output_type": "stream",
     "text": [
      "          Amount\n",
      "0    5488.144674\n",
      "1    2294.757508\n",
      "2     436.584154\n",
      "3    4929.265287\n",
      "4    4711.636004\n",
      "..           ...\n",
      "95  10495.017353\n",
      "96   7512.885121\n",
      "97   6769.409366\n",
      "98   6194.821513\n",
      "99  16937.519977\n",
      "\n",
      "[100 rows x 1 columns]\n"
     ]
    }
   ],
   "source": [
    "#create array of 100 random numbers\n",
    "sampl = np.random.uniform(low=0.1, high=19999.99, size=(100,))\n",
    "#print(sampl)\n",
    "#convert to DF\n",
    "tx = pd.DataFrame(sampl)\n",
    "tx.columns = ['Amount']\n",
    "#print(tx)\n",
    "\n",
    "#limiting to 2 decimals\n",
    "\n",
    "print(tx)"
   ]
  },
  {
   "cell_type": "code",
   "execution_count": 74,
   "id": "absent-recruitment",
   "metadata": {},
   "outputs": [
    {
     "name": "stdout",
     "output_type": "stream",
     "text": [
      "Sum of commission with 1 cent as transaction charge:  100 cents\n"
     ]
    }
   ],
   "source": [
    "#CASE 1\n",
    "##with 1 cent as standard transaction charge\n",
    "cent = len(tx)\n",
    "\n",
    "print(\"Sum of commission with 1 cent as transaction charge: \", cent, \"cents\")"
   ]
  },
  {
   "cell_type": "code",
   "execution_count": 75,
   "id": "foreign-declaration",
   "metadata": {},
   "outputs": [
    {
     "name": "stdout",
     "output_type": "stream",
     "text": [
      "          Amount  Charges\n",
      "0    5488.144674      3.0\n",
      "1    2294.757508      3.0\n",
      "2     436.584154      1.0\n",
      "3    4929.265287      3.0\n",
      "4    4711.636004      3.0\n",
      "..           ...      ...\n",
      "95  10495.017353     10.0\n",
      "96   7512.885121      3.0\n",
      "97   6769.409366      3.0\n",
      "98   6194.821513      3.0\n",
      "99  16937.519977     10.0\n",
      "\n",
      "[100 rows x 2 columns]\n"
     ]
    }
   ],
   "source": [
    "#CASE 2\n",
    "##with variable charges\n",
    "##0-999.99 euros: 1 cent\n",
    "##1000-9999.99 euros: 3 cents\n",
    "##10000-above: 10 cents\n",
    "\n",
    "tx.loc[tx['Amount'] <= 999.99, 'Charges'] = 1  \n",
    "tx.loc[(tx['Amount'] >= 1000.00) & (tx['Amount'] <= 9999.99), 'Charges'] = 3\n",
    "tx.loc[tx['Amount'] >= 10000.00, 'Charges'] = 10\n",
    "\n",
    "#convert to INT\n",
    "tx['Charges'].astype(int)\n",
    "print(tx)"
   ]
  },
  {
   "cell_type": "code",
   "execution_count": 76,
   "id": "different-shield",
   "metadata": {},
   "outputs": [
    {
     "name": "stdout",
     "output_type": "stream",
     "text": [
      "Sum of commission with incremental transaction charges:  609.0 euros\n"
     ]
    }
   ],
   "source": [
    "Incremental_comission = tx['Charges'].sum()\n",
    "\n",
    "print(\"Sum of commission with incremental transaction charges: \", Incremental_comission, \"euros\")"
   ]
  },
  {
   "cell_type": "code",
   "execution_count": 77,
   "id": "equal-sender",
   "metadata": {},
   "outputs": [],
   "source": [
    "#CASE 3\n",
    "##with 1% as transaction charge\n",
    "tx[\"Charges_Fixed\"] = tx[\"Amount\"] * 0.01\n",
    "#print(tx)"
   ]
  },
  {
   "cell_type": "code",
   "execution_count": 78,
   "id": "significant-scratch",
   "metadata": {},
   "outputs": [
    {
     "name": "stdout",
     "output_type": "stream",
     "text": [
      "Sum of commission with fixed 1% transaction charges:  9785.44 euros\n"
     ]
    }
   ],
   "source": [
    "Fixed_percent_comission = tx['Charges_Fixed'].sum()\n",
    "\n",
    "print(\"Sum of commission with fixed 1% transaction charges: \",  round(Fixed_percent_comission,2), \"euros\")"
   ]
  },
  {
   "cell_type": "code",
   "execution_count": 79,
   "id": "acceptable-purple",
   "metadata": {},
   "outputs": [
    {
     "name": "stdout",
     "output_type": "stream",
     "text": [
      "Sum of commission with 1 cent as transaction charge:  100 cents\n",
      "Sum of commission with incremental transaction charges:  609.0 euros\n",
      "Sum of commission with fixed 1% transaction charges:  9785.44 euros\n"
     ]
    }
   ],
   "source": [
    "print(\"Sum of commission with 1 cent as transaction charge: \", cent, \"cents\")\n",
    "print(\"Sum of commission with incremental transaction charges: \", Incremental_comission, \"euros\")\n",
    "print(\"Sum of commission with fixed 1% transaction charges: \",  round(Fixed_percent_comission,2), \"euros\")"
   ]
  }
 ],
 "metadata": {
  "kernelspec": {
   "display_name": "Python 3",
   "language": "python",
   "name": "python3"
  },
  "language_info": {
   "codemirror_mode": {
    "name": "ipython",
    "version": 3
   },
   "file_extension": ".py",
   "mimetype": "text/x-python",
   "name": "python",
   "nbconvert_exporter": "python",
   "pygments_lexer": "ipython3",
   "version": "3.9.2"
  }
 },
 "nbformat": 4,
 "nbformat_minor": 5
}
